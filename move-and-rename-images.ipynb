{
 "cells": [
  {
   "cell_type": "code",
   "execution_count": 2,
   "metadata": {},
   "outputs": [],
   "source": [
    "#move and rename files to 'parent' item directory\n",
    "import os\n",
    "cwd = os.getcwd()\n",
    "\n",
    "base_path = cwd + '/Nuts/'\n",
    "for item in os.listdir(base_path):\n",
    "    if not item.startswith('.'):\n",
    "        \n",
    "        cur_path = base_path + item + '/'\n",
    "        new_path = base_path + item + '/'\n",
    "        \n",
    "        count = 0\n",
    "        for subdir, dirs, files in os.walk(cur_path):\n",
    "            for filename in files:\n",
    "                \n",
    "                name,ext = os.path.splitext(filename)\n",
    "                filepath = subdir + os.sep + name + ext\n",
    "                \n",
    "                if filepath.endswith(\".jpg\") or filepath.endswith(\".JPG\") \\\n",
    "                    or filepath.endswith(\".JPEG\") or filepath.endswith(\".jpeg\") \\\n",
    "                    or filepath.endswith(\".PNG\") or filepath.endswith(\".png\"):\n",
    "                    \n",
    "                    count = count+1\n",
    "                    newFileName = item+str(count)+ext\n",
    "                    newFilePath = new_path + newFileName\n",
    "                    #print(newFilePath)\n",
    "                    os.rename(filepath, newFilePath)"
   ]
  },
  {
   "cell_type": "code",
   "execution_count": null,
   "metadata": {},
   "outputs": [],
   "source": []
  }
 ],
 "metadata": {
  "kernelspec": {
   "display_name": "Python 3",
   "language": "python",
   "name": "python3"
  },
  "language_info": {
   "codemirror_mode": {
    "name": "ipython",
    "version": 3
   },
   "file_extension": ".py",
   "mimetype": "text/x-python",
   "name": "python",
   "nbconvert_exporter": "python",
   "pygments_lexer": "ipython3",
   "version": "3.8.3"
  }
 },
 "nbformat": 4,
 "nbformat_minor": 4
}
