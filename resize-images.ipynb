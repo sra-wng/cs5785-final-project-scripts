{
 "cells": [
  {
   "cell_type": "code",
   "execution_count": 1,
   "metadata": {},
   "outputs": [],
   "source": [
    "# #get the largest file size\n",
    "\n",
    "# import os \n",
    "  \n",
    "# # folder path input \n",
    "# print(\"Enter folder path\") \n",
    "# path = os.path.abspath(input()) \n",
    "  \n",
    "# # for storing size of each  \n",
    "# # file \n",
    "# size = 0\n",
    "  \n",
    "# # for storing the size of  \n",
    "# # the largest file \n",
    "# max_size = 0\n",
    "  \n",
    "# # for storing the path to the  \n",
    "# # largest file \n",
    "# max_file =\"\" \n",
    "  \n",
    "# # walking through the entire folder, \n",
    "# # including subdirectories \n",
    "  \n",
    "# for folder, subfolders, files in os.walk(path): \n",
    "      \n",
    "#     # checking the size of each file \n",
    "#     for file in files: \n",
    "#         size = os.stat(os.path.join( folder, file  )).st_size \n",
    "          \n",
    "#         # updating maximum size \n",
    "#         if size>max_size: \n",
    "#             max_size = size \n",
    "#             max_file = os.path.join( folder, file  ) \n",
    "\n",
    "# print(\"The largest file is: \"+max_file) \n",
    "# print('Size: '+str(max_size)+' bytes') "
   ]
  },
  {
   "cell_type": "code",
   "execution_count": 4,
   "metadata": {
    "scrolled": true
   },
   "outputs": [],
   "source": [
    "#resize all images to a max width of 348. preserve aspect ratio\n",
    "\n",
    "from PIL import Image\n",
    "import os \n",
    "path = '/Users/sarawang/CS5785-Final-Project/CombinedData/yogurt'\n",
    "\n",
    "for folder, subfolders, files in os.walk(path): \n",
    "    for file in files:\n",
    "        if not file.startswith('.'):\n",
    "            img = Image.open(folder+'/'+file)     # puts our image to the buffer of the PIL.Image object\n",
    "\n",
    "            w,h=img.size\n",
    "            asp_rat = w/h\n",
    "            if w > 348:\n",
    "                new_w = 348\n",
    "                new_h = 348\n",
    "                new_rat = new_w/new_h\n",
    "                if (new_rat == asp_rat):\n",
    "                    img = img.resize((new_w,new_h),Image.ANTIALIAS)\n",
    "                else:\n",
    "                    new_h = round(new_w/asp_rat)\n",
    "                    img = img.resize((new_w,new_h))\n",
    "                \n",
    "                name,ext = os.path.splitext(file)\n",
    "                \n",
    "                if img.mode in (\"RGBA\", \"P\"): img = img.convert(\"RGB\")\n",
    "                img.save(folder+'/'+name+ext)"
   ]
  },
  {
   "cell_type": "code",
   "execution_count": 1,
   "metadata": {},
   "outputs": [
    {
     "name": "stdout",
     "output_type": "stream",
     "text": [
      "70189\n"
     ]
    }
   ],
   "source": [
    "#total file count\n",
    "\n",
    "import os\n",
    "\n",
    "file_count = sum(len(files) for _, _, files in os.walk('/Users/sarawang/CS5785-Final-Project/CombinedData/'))\n",
    "print(file_count)"
   ]
  },
  {
   "cell_type": "code",
   "execution_count": null,
   "metadata": {},
   "outputs": [],
   "source": []
  }
 ],
 "metadata": {
  "kernelspec": {
   "display_name": "Python 3",
   "language": "python",
   "name": "python3"
  },
  "language_info": {
   "codemirror_mode": {
    "name": "ipython",
    "version": 3
   },
   "file_extension": ".py",
   "mimetype": "text/x-python",
   "name": "python",
   "nbconvert_exporter": "python",
   "pygments_lexer": "ipython3",
   "version": "3.8.3"
  }
 },
 "nbformat": 4,
 "nbformat_minor": 4
}
